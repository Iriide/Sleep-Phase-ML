{
 "cells": [
  {
   "cell_type": "code",
   "outputs": [],
   "source": [
    "import pandas as pd\n",
    "import matplotlib.pyplot as plt\n",
    "import numpy as np"
   ],
   "metadata": {
    "collapsed": false,
    "ExecuteTime": {
     "end_time": "2024-04-21T18:14:48.517258400Z",
     "start_time": "2024-04-21T18:14:48.509747100Z"
    }
   },
   "id": "1c4828cefa2e13a5",
   "execution_count": 110
  },
  {
   "cell_type": "markdown",
   "source": [
    "https://academic.oup.com/sleep/article/42/12/zsz180/5549536"
   ],
   "metadata": {
    "collapsed": false
   },
   "id": "87a9e6c0a47230c9"
  },
  {
   "cell_type": "code",
   "execution_count": 111,
   "id": "initial_id",
   "metadata": {
    "collapsed": true,
    "ExecuteTime": {
     "end_time": "2024-04-21T18:15:22.371493100Z",
     "start_time": "2024-04-21T18:14:48.521259800Z"
    }
   },
   "outputs": [],
   "source": [
    "test_id = open('walch-apple-watch/test_ids.txt', 'r')\n",
    "train_id = open('walch-apple-watch/train_ids.txt', 'r')\n",
    "val_id = open('walch-apple-watch/val_ids.txt', 'r')\n",
    "\n",
    "test_id = test_id.read().split('\\n')[:-1]\n",
    "train_id = train_id.read().split('\\n')[:-1]\n",
    "val_id = val_id.read().split('\\n')[:-1]\n",
    "\n",
    "test = pd.DataFrame()\n",
    "for i in test_id:\n",
    "    heartrate = pd.read_csv('walch-apple-watch/heart_rate/'+i+'_heartrate.csv', index_col=False)\n",
    "    acceleration = pd.read_csv('walch-apple-watch/motion/'+i+'_acceleration.csv', index_col=False)\n",
    "    labeled_sleep = pd.read_csv('walch-apple-watch/labels/'+i+'_labeled_sleep.csv', index_col=False)\n",
    "    \n",
    "    heartrate = heartrate[heartrate[\"timestamp\"] >= 0]\n",
    "    acceleration = acceleration[acceleration[\"timestamp\"] >= 0]\n",
    "    \n",
    "    indices = acceleration[\"timestamp\"].apply(lambda x: heartrate[\"timestamp\"].searchsorted(x))\n",
    "    acceleration['closest_hr_timestamp'] = heartrate['timestamp'].values[indices - 1]\n",
    "    grouped_data = acceleration.groupby('closest_hr_timestamp').agg({\n",
    "        'x': 'mean',\n",
    "        'y': 'mean',\n",
    "        'z': 'mean'\n",
    "    }).reset_index()\n",
    "    df_final = pd.merge(heartrate, grouped_data, left_on='timestamp', right_on='closest_hr_timestamp', how='left')\n",
    "    \n",
    "    indices = df_final[\"timestamp\"].apply(lambda x: labeled_sleep[\"epoch\"].searchsorted(x))\n",
    "    df_final['labels'] = labeled_sleep['label'].values[indices - 1]\n",
    "    \n",
    "    df_final = df_final.dropna()\n",
    "    df_final = df_final.drop(columns=['closest_hr_timestamp'])\n",
    "    \n",
    "    test = pd.concat([test, df_final])"
   ]
  },
  {
   "cell_type": "code",
   "outputs": [
    {
     "name": "stdout",
     "output_type": "stream",
     "text": [
      "        timestamp    hr         x         y         z  labels\n",
      "0         1.96583  62.0 -0.400414  0.202381 -0.897284      -1\n",
      "1         6.96583  62.0 -0.409291  0.199273 -0.893377      -1\n",
      "2        15.96580  62.0 -0.393097  0.224226 -0.895046      -1\n",
      "3        21.96583  66.0 -0.371728  0.219617 -0.906034      -1\n",
      "4        22.96583  67.0 -0.366195  0.156390 -0.919364      -1\n",
      "...           ...   ...       ...       ...       ...     ...\n",
      "5654  29620.93379  74.0  0.144599  0.589341 -0.584729      -1\n",
      "5655  29624.93376  73.0 -0.242116  0.106549 -0.930605      -1\n",
      "5656  29626.93379  73.0 -0.364146  0.683116 -0.237530      -1\n",
      "5657  29631.93376  72.0 -0.273410  0.523564 -0.782494      -1\n",
      "5658  29641.93379  79.0  0.009794  0.497218 -0.467456      -1\n",
      "\n",
      "[28886 rows x 6 columns]\n"
     ]
    }
   ],
   "source": [
    "print(test)\n",
    "test.to_csv('test_data.csv', index=True)"
   ],
   "metadata": {
    "collapsed": false,
    "ExecuteTime": {
     "end_time": "2024-04-21T18:15:22.453889200Z",
     "start_time": "2024-04-21T18:15:22.372492100Z"
    }
   },
   "id": "ecddb185f975838f",
   "execution_count": 112
  },
  {
   "cell_type": "code",
   "outputs": [],
   "source": [
    "train = pd.DataFrame()\n",
    "for i in train_id:\n",
    "    heartrate = pd.read_csv('walch-apple-watch/heart_rate/'+i+'_heartrate.csv', index_col=False)\n",
    "    acceleration = pd.read_csv('walch-apple-watch/motion/'+i+'_acceleration.csv', index_col=False)\n",
    "    labeled_sleep = pd.read_csv('walch-apple-watch/labels/'+i+'_labeled_sleep.csv', index_col=False)\n",
    "    \n",
    "    heartrate = heartrate[heartrate[\"timestamp\"] >= 0]\n",
    "    acceleration = acceleration[acceleration[\"timestamp\"] >= 0]\n",
    "    \n",
    "    indices = acceleration[\"timestamp\"].apply(lambda x: heartrate[\"timestamp\"].searchsorted(x))\n",
    "    acceleration['closest_hr_timestamp'] = heartrate['timestamp'].values[indices - 1]\n",
    "    grouped_data = acceleration.groupby('closest_hr_timestamp').agg({\n",
    "        'x': 'mean',\n",
    "        'y': 'mean',\n",
    "        'z': 'mean'\n",
    "    }).reset_index()\n",
    "    df_final = pd.merge(heartrate, grouped_data, left_on='timestamp', right_on='closest_hr_timestamp', how='left')\n",
    "    \n",
    "    indices = df_final[\"timestamp\"].apply(lambda x: labeled_sleep[\"epoch\"].searchsorted(x))\n",
    "    df_final['labels'] = labeled_sleep['label'].values[indices - 1]\n",
    "    \n",
    "    df_final = df_final.dropna()\n",
    "    df_final = df_final.drop(columns=['closest_hr_timestamp'])\n",
    "    \n",
    "    train = pd.concat([train, df_final])"
   ],
   "metadata": {
    "collapsed": false,
    "ExecuteTime": {
     "end_time": "2024-04-21T18:17:43.720972300Z",
     "start_time": "2024-04-21T18:15:22.451890Z"
    }
   },
   "id": "63e8609dca1e74f5",
   "execution_count": 113
  },
  {
   "cell_type": "code",
   "outputs": [
    {
     "name": "stdout",
     "output_type": "stream",
     "text": [
      "        timestamp    hr         x         y         z  labels\n",
      "0         5.16105  77.0 -0.865297 -0.071364 -0.464401      -1\n",
      "1        10.16105  77.0 -0.957725 -0.066915 -0.222599      -1\n",
      "2        11.16105  78.0 -0.589195 -0.348735 -0.688189      -1\n",
      "3        20.16102  78.0 -0.542033 -0.346615 -0.763253      -1\n",
      "4        25.16105  76.0 -0.541780 -0.345169 -0.764195      -1\n",
      "...           ...   ...       ...       ...       ...     ...\n",
      "2987  14938.20547  60.0 -0.389303 -0.395061 -0.824638       0\n",
      "3055  15275.20547  58.0 -0.328065 -0.456537 -0.819937       0\n",
      "3056  15282.20547  57.0 -0.327746 -0.456712 -0.819730       0\n",
      "3057  15285.20544  57.0 -0.327662 -0.456762 -0.815776       0\n",
      "3071  15355.20544  59.0 -0.456532  0.554483 -0.694457       0\n",
      "\n",
      "[132962 rows x 6 columns]\n"
     ]
    }
   ],
   "source": [
    "print(train)\n",
    "train.to_csv('train_data.csv', index=True)"
   ],
   "metadata": {
    "collapsed": false,
    "ExecuteTime": {
     "end_time": "2024-04-21T18:17:44.034881400Z",
     "start_time": "2024-04-21T18:17:43.720972300Z"
    }
   },
   "id": "9d8bddbb20499bd3",
   "execution_count": 114
  },
  {
   "cell_type": "code",
   "outputs": [],
   "source": [
    "val = pd.DataFrame()\n",
    "for i in val_id:\n",
    "    heartrate = pd.read_csv('walch-apple-watch/heart_rate/'+i+'_heartrate.csv', index_col=False)\n",
    "    acceleration = pd.read_csv('walch-apple-watch/motion/'+i+'_acceleration.csv', index_col=False)\n",
    "    labeled_sleep = pd.read_csv('walch-apple-watch/labels/'+i+'_labeled_sleep.csv', index_col=False)\n",
    "    \n",
    "    heartrate = heartrate[heartrate[\"timestamp\"] >= 0]\n",
    "    acceleration = acceleration[acceleration[\"timestamp\"] >= 0]\n",
    "    \n",
    "    indices = acceleration[\"timestamp\"].apply(lambda x: heartrate[\"timestamp\"].searchsorted(x))\n",
    "    acceleration['closest_hr_timestamp'] = heartrate['timestamp'].values[indices - 1]\n",
    "    grouped_data = acceleration.groupby('closest_hr_timestamp').agg({\n",
    "        'x': 'mean',\n",
    "        'y': 'mean',\n",
    "        'z': 'mean'\n",
    "    }).reset_index()\n",
    "    df_final = pd.merge(heartrate, grouped_data, left_on='timestamp', right_on='closest_hr_timestamp', how='left')\n",
    "    \n",
    "    indices = df_final[\"timestamp\"].apply(lambda x: labeled_sleep[\"epoch\"].searchsorted(x))\n",
    "    df_final['labels'] = labeled_sleep['label'].values[indices - 1]\n",
    "    \n",
    "    df_final = df_final.dropna()\n",
    "    df_final = df_final.drop(columns=['closest_hr_timestamp'])\n",
    "    \n",
    "    val = pd.concat([val, df_final])"
   ],
   "metadata": {
    "collapsed": false,
    "ExecuteTime": {
     "end_time": "2024-04-21T18:18:07.029110900Z",
     "start_time": "2024-04-21T18:17:44.036882800Z"
    }
   },
   "id": "e9780685d9630698",
   "execution_count": 115
  },
  {
   "cell_type": "code",
   "outputs": [
    {
     "name": "stdout",
     "output_type": "stream",
     "text": [
      "        timestamp     hr         x         y         z  labels\n",
      "244    1251.75728   74.0  0.018724 -0.337573 -0.941772       0\n",
      "245    1255.75731   69.0 -0.013176 -0.179521 -0.982856       0\n",
      "246    1261.75731   69.0 -0.006925 -0.213558 -0.976247       0\n",
      "247    1262.75731   69.0 -0.033927 -0.206757 -0.978274       0\n",
      "248    1267.75731   69.0 -0.077267  0.007596 -0.956442       0\n",
      "...           ...    ...       ...       ...       ...     ...\n",
      "4480  23251.21854   85.0  0.326073  0.823985  0.065880      -1\n",
      "4481  23261.21851   96.0 -0.015718  1.000196  0.102516      -1\n",
      "4482  23262.21854   96.0 -0.010001  1.000902  0.094026      -1\n",
      "4483  23267.21854   97.0 -0.410440  0.895001  0.153172      -1\n",
      "4484  23273.21854  114.0  0.129014  0.279136 -0.555945      -1\n",
      "\n",
      "[21534 rows x 6 columns]\n"
     ]
    }
   ],
   "source": [
    "print(val)\n",
    "val.to_csv('val_data.csv', index=True)"
   ],
   "metadata": {
    "collapsed": false,
    "ExecuteTime": {
     "end_time": "2024-04-21T18:18:07.086028200Z",
     "start_time": "2024-04-21T18:18:07.031111Z"
    }
   },
   "id": "eebe0a6a9d55762c",
   "execution_count": 116
  }
 ],
 "metadata": {
  "kernelspec": {
   "display_name": "Python 3",
   "language": "python",
   "name": "python3"
  },
  "language_info": {
   "codemirror_mode": {
    "name": "ipython",
    "version": 2
   },
   "file_extension": ".py",
   "mimetype": "text/x-python",
   "name": "python",
   "nbconvert_exporter": "python",
   "pygments_lexer": "ipython2",
   "version": "2.7.6"
  }
 },
 "nbformat": 4,
 "nbformat_minor": 5
}
